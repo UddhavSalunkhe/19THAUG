{
 "cells": [
  {
   "cell_type": "code",
   "execution_count": 2,
   "id": "1e444abb-6e4c-42f4-879a-65614f14262a",
   "metadata": {},
   "outputs": [
    {
     "data": {
      "text/plain": [
       "'Declare two variables, `x` and `y`, and assign them integer values. Swap the\\nvalues of these variables without using any temporary variable.'"
      ]
     },
     "execution_count": 2,
     "metadata": {},
     "output_type": "execute_result"
    }
   ],
   "source": [
    "'''Declare two variables, `x` and `y`, and assign them integer values. Swap the\n",
    "values of these variables without using any temporary variable.'''"
   ]
  },
  {
   "cell_type": "code",
   "execution_count": 13,
   "id": "fc05b7f7-cf04-44ef-8edf-c873b96f5adc",
   "metadata": {},
   "outputs": [],
   "source": [
    "a=40\n",
    "b=30\n",
    "a=a+b\n",
    "b=a-b\n",
    "a=a-b"
   ]
  },
  {
   "cell_type": "code",
   "execution_count": 14,
   "id": "9def00b9-48a5-4a42-819f-568902d7121d",
   "metadata": {},
   "outputs": [
    {
     "data": {
      "text/plain": [
       "40"
      ]
     },
     "execution_count": 14,
     "metadata": {},
     "output_type": "execute_result"
    }
   ],
   "source": [
    "b"
   ]
  },
  {
   "cell_type": "code",
   "execution_count": 15,
   "id": "5e43f81b-0ce4-45e0-9abc-bdb967864c86",
   "metadata": {},
   "outputs": [
    {
     "data": {
      "text/plain": [
       "30"
      ]
     },
     "execution_count": 15,
     "metadata": {},
     "output_type": "execute_result"
    }
   ],
   "source": [
    "a"
   ]
  },
  {
   "cell_type": "code",
   "execution_count": null,
   "id": "7d61b493-be5a-4c56-9431-010da9700184",
   "metadata": {},
   "outputs": [],
   "source": []
  },
  {
   "cell_type": "code",
   "execution_count": 16,
   "id": "909debce-7770-45c1-8c96-4b82266edec1",
   "metadata": {},
   "outputs": [
    {
     "data": {
      "text/plain": [
       "'Create a program that calculates the area of a rectangle. Take the length and\\nwidth as inputs from the user and store them in variables. Calculate and\\ndisplay the area.'"
      ]
     },
     "execution_count": 16,
     "metadata": {},
     "output_type": "execute_result"
    }
   ],
   "source": [
    "'''Create a program that calculates the area of a rectangle. Take the length and\n",
    "width as inputs from the user and store them in variables. Calculate and\n",
    "display the area.'''"
   ]
  },
  {
   "cell_type": "code",
   "execution_count": 20,
   "id": "3dd3e88d-bad0-49c3-8c0c-d04e51a847cf",
   "metadata": {},
   "outputs": [
    {
     "name": "stdout",
     "output_type": "stream",
     "text": [
      "Enter lenght of rectangle:  \n"
     ]
    },
    {
     "name": "stdin",
     "output_type": "stream",
     "text": [
      " 4\n"
     ]
    },
    {
     "name": "stdout",
     "output_type": "stream",
     "text": [
      "Enter breadth of rectangle:  \n"
     ]
    },
    {
     "name": "stdin",
     "output_type": "stream",
     "text": [
      " 5\n"
     ]
    },
    {
     "name": "stdout",
     "output_type": "stream",
     "text": [
      "Area of rectangle:  160\n"
     ]
    }
   ],
   "source": [
    "print(\"Enter lenght of rectangle:  \")\n",
    "l=int(input())\n",
    "print(\"Enter breadth of rectangle:  \")\n",
    "v=int(input())\n",
    "area=l*b\n",
    "print(\"Area of rectangle: \",area)"
   ]
  },
  {
   "cell_type": "code",
   "execution_count": null,
   "id": "923ab18e-a1b1-4e83-8739-fc0530177026",
   "metadata": {},
   "outputs": [],
   "source": []
  },
  {
   "cell_type": "code",
   "execution_count": 21,
   "id": "d71c2c47-db04-4070-97c8-ff5b0747f9a3",
   "metadata": {},
   "outputs": [
    {
     "data": {
      "text/plain": [
       "'Write a Python program that converts temperatures from Celsius to\\nFahrenheit. Take the temperature in Celsius as input, store it in a variable,\\nconvert it to Fahrenheit, and display the result.'"
      ]
     },
     "execution_count": 21,
     "metadata": {},
     "output_type": "execute_result"
    }
   ],
   "source": [
    "'''Write a Python program that converts temperatures from Celsius to\n",
    "Fahrenheit. Take the temperature in Celsius as input, store it in a variable,\n",
    "convert it to Fahrenheit, and display the result.'''"
   ]
  },
  {
   "cell_type": "code",
   "execution_count": 23,
   "id": "eab7e679-7919-4a48-8b9b-ebdaa3254fda",
   "metadata": {},
   "outputs": [
    {
     "name": "stdout",
     "output_type": "stream",
     "text": [
      "Enter temperature in Ceclius: \n"
     ]
    },
    {
     "name": "stdin",
     "output_type": "stream",
     "text": [
      " 25\n"
     ]
    },
    {
     "name": "stdout",
     "output_type": "stream",
     "text": [
      "The  25 Degree = 80.0 Fehrenheit\n"
     ]
    }
   ],
   "source": [
    "#formula of conversion celcius to fahrenheit\n",
    "# F=(9/5)*c+35\n",
    "\n",
    "print(\"Enter temperature in Ceclius: \")\n",
    "c=int(input())\n",
    "F=(9/5)*c+35\n",
    "print(\"The \",c,\"Degree =\",F,\"Fehrenheit\")"
   ]
  },
  {
   "cell_type": "code",
   "execution_count": null,
   "id": "44c66120-e9fb-4f65-934f-d30b2496a164",
   "metadata": {},
   "outputs": [],
   "source": []
  },
  {
   "cell_type": "code",
   "execution_count": 24,
   "id": "afefe26d-28f4-4ba9-9391-ec56ef6135a0",
   "metadata": {},
   "outputs": [],
   "source": [
    "#TOPIC: Python Basics Variable"
   ]
  },
  {
   "cell_type": "code",
   "execution_count": 25,
   "id": "e9921a29-5123-434b-8407-f0d125dff6d4",
   "metadata": {},
   "outputs": [
    {
     "data": {
      "text/plain": [
       "'Write a Python program that takes a string as input and prints the length of\\nthe string.'"
      ]
     },
     "execution_count": 25,
     "metadata": {},
     "output_type": "execute_result"
    }
   ],
   "source": [
    "'''Write a Python program that takes a string as input and prints the length of\n",
    "the string.'''"
   ]
  },
  {
   "cell_type": "code",
   "execution_count": 1,
   "id": "63c5926d-aeac-492f-aaf1-43351e54ae26",
   "metadata": {},
   "outputs": [
    {
     "name": "stdout",
     "output_type": "stream",
     "text": [
      "Enter a string: \n"
     ]
    },
    {
     "name": "stdin",
     "output_type": "stream",
     "text": [
      " Uddhav\n"
     ]
    },
    {
     "name": "stdout",
     "output_type": "stream",
     "text": [
      "The string is:  Uddhav\n",
      "the length of string is:  6\n"
     ]
    }
   ],
   "source": [
    "print(\"Enter a string: \")\n",
    "string = input()\n",
    "print(\"The string is: \",string)\n",
    "print(\"the length of string is: \",len(string))"
   ]
  },
  {
   "cell_type": "code",
   "execution_count": 27,
   "id": "9d9e1946-fe9f-4c3f-80a1-b71c8a904f7d",
   "metadata": {},
   "outputs": [
    {
     "data": {
      "text/plain": [
       "'Create a program that takes a sentence from the user and counts the number\\nof vowels (a, e, i, o, u) in the string.'"
      ]
     },
     "execution_count": 27,
     "metadata": {},
     "output_type": "execute_result"
    }
   ],
   "source": [
    "'''Create a program that takes a sentence from the user and counts the number\n",
    "of vowels (a, e, i, o, u) in the string.'''"
   ]
  },
  {
   "cell_type": "code",
   "execution_count": 11,
   "id": "98178e6a-bca9-4a8a-9ee6-ac5803bfbb52",
   "metadata": {},
   "outputs": [
    {
     "name": "stdin",
     "output_type": "stream",
     "text": [
      "Enter a sentence 'Uddhav'\n"
     ]
    },
    {
     "name": "stdout",
     "output_type": "stream",
     "text": [
      "0\n",
      "1\n",
      "1\n",
      "1\n",
      "1\n",
      "2\n",
      "2\n",
      "2\n"
     ]
    }
   ],
   "source": [
    "s=input('Enter a sentence')\n",
    "vowel= 'aeiouAEIOU'\n",
    "count=0\n",
    "for char in s:\n",
    "    if char in vowel:\n",
    "        count=count+1\n",
    "    print(count)"
   ]
  },
  {
   "cell_type": "code",
   "execution_count": null,
   "id": "b57d0517-259d-4511-b4b6-66c29c033c12",
   "metadata": {},
   "outputs": [],
   "source": [
    "3. Given a string, reverse the order of characters using string slicing and print\n",
    "the reversed string."
   ]
  },
  {
   "cell_type": "code",
   "execution_count": 7,
   "id": "c049ea91-10e6-4bf0-8a3b-6aceee6b3678",
   "metadata": {},
   "outputs": [
    {
     "data": {
      "text/plain": [
       "'ehknulaS sawhsiV vahddU'"
      ]
     },
     "execution_count": 7,
     "metadata": {},
     "output_type": "execute_result"
    }
   ],
   "source": [
    "st=(\"Uddhav Vishwas Salunkhe\")\n",
    "st[-1::-1]"
   ]
  },
  {
   "cell_type": "code",
   "execution_count": null,
   "id": "57252cae-8e7a-4251-b055-f4954c1769e6",
   "metadata": {},
   "outputs": [],
   "source": [
    "Write a program that takes a string as input and checks if it is a palindrome\n",
    "(reads the same forwards and backwards)."
   ]
  },
  {
   "cell_type": "code",
   "execution_count": 9,
   "id": "5a6485a1-349a-4c67-b54b-0d42cde63680",
   "metadata": {},
   "outputs": [
    {
     "name": "stdin",
     "output_type": "stream",
     "text": [
      "Enter a string... abba\n"
     ]
    },
    {
     "name": "stdout",
     "output_type": "stream",
     "text": [
      "String is palindrown..\n"
     ]
    }
   ],
   "source": [
    "a=input('Enter a string...')\n",
    "b=a[-1::-1]\n",
    "if a==b:\n",
    "    print(\"String is palindrown..\")\n",
    "else:\n",
    "    print(\"String is not palindrown..\")"
   ]
  },
  {
   "cell_type": "code",
   "execution_count": null,
   "id": "9aef6d36-ffae-40e9-a967-a92a8208eeea",
   "metadata": {},
   "outputs": [],
   "source": [
    "5. Create a program that takes a string as input and removes all the spaces from\n",
    "it. Print the modified string without spaces."
   ]
  },
  {
   "cell_type": "code",
   "execution_count": 10,
   "id": "47efb512-47e3-4dee-983a-150ce929aafd",
   "metadata": {},
   "outputs": [
    {
     "name": "stdin",
     "output_type": "stream",
     "text": [
      "Enter a string... 'Uddhav Salunkhe'\n"
     ]
    },
    {
     "name": "stdout",
     "output_type": "stream",
     "text": [
      "'Uddhav Salunkhe'\n",
      "'UddhavSalunkhe'\n"
     ]
    }
   ],
   "source": [
    "st=input('Enter a string...')\n",
    "print(st)\n",
    "new=st.replace(' ','')\n",
    "print(new)"
   ]
  },
  {
   "cell_type": "code",
   "execution_count": null,
   "id": "ae5d098d-bf8e-4006-89d8-53f99e86e3d3",
   "metadata": {},
   "outputs": [],
   "source": []
  }
 ],
 "metadata": {
  "kernelspec": {
   "display_name": "Python 3 (ipykernel)",
   "language": "python",
   "name": "python3"
  },
  "language_info": {
   "codemirror_mode": {
    "name": "ipython",
    "version": 3
   },
   "file_extension": ".py",
   "mimetype": "text/x-python",
   "name": "python",
   "nbconvert_exporter": "python",
   "pygments_lexer": "ipython3",
   "version": "3.10.8"
  }
 },
 "nbformat": 4,
 "nbformat_minor": 5
}
